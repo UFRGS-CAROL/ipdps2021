{
 "cells": [
  {
   "cell_type": "markdown",
   "metadata": {},
   "source": [
    "# Fault injection data from Titan V (Volta)"
   ]
  },
  {
   "cell_type": "markdown",
   "metadata": {},
   "source": [
    "On Volta, it is possible to inject fault only on NVBITFI, the results are available on data/ directory."
   ]
  },
  {
   "cell_type": "code",
   "execution_count": 1,
   "metadata": {},
   "outputs": [],
   "source": [
    "import pandas as pd\n",
    "\n",
    "#load nvbitfi\n",
    "nvbitfi_df = pd.read_csv(\"data/avf_volta_nvbitfi.csv\", index_col=[0,1])"
   ]
  },
  {
   "cell_type": "code",
   "execution_count": 2,
   "metadata": {},
   "outputs": [
    {
     "data": {
      "text/html": [
       "<div>\n",
       "<style scoped>\n",
       "    .dataframe tbody tr th:only-of-type {\n",
       "        vertical-align: middle;\n",
       "    }\n",
       "\n",
       "    .dataframe tbody tr th {\n",
       "        vertical-align: top;\n",
       "    }\n",
       "\n",
       "    .dataframe thead th {\n",
       "        text-align: right;\n",
       "    }\n",
       "</style>\n",
       "<table border=\"1\" class=\"dataframe\">\n",
       "  <thead>\n",
       "    <tr style=\"text-align: right;\">\n",
       "      <th></th>\n",
       "      <th></th>\n",
       "      <th>DGEMM</th>\n",
       "      <th>DHOTSPOT</th>\n",
       "      <th>DLAVA</th>\n",
       "      <th>DMXM</th>\n",
       "      <th>FGEMM</th>\n",
       "      <th>FHOTSPOT</th>\n",
       "      <th>FLAVA</th>\n",
       "      <th>FMXM</th>\n",
       "      <th>FYOLOV3</th>\n",
       "    </tr>\n",
       "    <tr>\n",
       "      <th></th>\n",
       "      <th>igid</th>\n",
       "      <th></th>\n",
       "      <th></th>\n",
       "      <th></th>\n",
       "      <th></th>\n",
       "      <th></th>\n",
       "      <th></th>\n",
       "      <th></th>\n",
       "      <th></th>\n",
       "      <th></th>\n",
       "    </tr>\n",
       "  </thead>\n",
       "  <tbody>\n",
       "    <tr>\n",
       "      <th rowspan=\"4\" valign=\"top\">SDC</th>\n",
       "      <th>FP32</th>\n",
       "      <td>0.00000</td>\n",
       "      <td>0.11125</td>\n",
       "      <td>0.000000</td>\n",
       "      <td>0.000000</td>\n",
       "      <td>0.314667</td>\n",
       "      <td>0.157667</td>\n",
       "      <td>0.132000</td>\n",
       "      <td>0.321333</td>\n",
       "      <td>0.079667</td>\n",
       "    </tr>\n",
       "    <tr>\n",
       "      <th>FP64</th>\n",
       "      <td>0.24250</td>\n",
       "      <td>0.14050</td>\n",
       "      <td>0.155333</td>\n",
       "      <td>0.329000</td>\n",
       "      <td>0.000000</td>\n",
       "      <td>0.000000</td>\n",
       "      <td>0.000000</td>\n",
       "      <td>0.000000</td>\n",
       "      <td>0.000000</td>\n",
       "    </tr>\n",
       "    <tr>\n",
       "      <th>GP</th>\n",
       "      <td>0.23625</td>\n",
       "      <td>0.10125</td>\n",
       "      <td>0.122000</td>\n",
       "      <td>0.080667</td>\n",
       "      <td>0.297333</td>\n",
       "      <td>0.153333</td>\n",
       "      <td>0.105333</td>\n",
       "      <td>0.066667</td>\n",
       "      <td>0.085333</td>\n",
       "    </tr>\n",
       "    <tr>\n",
       "      <th>LD</th>\n",
       "      <td>0.22875</td>\n",
       "      <td>0.13525</td>\n",
       "      <td>0.066667</td>\n",
       "      <td>0.000000</td>\n",
       "      <td>0.309333</td>\n",
       "      <td>0.182667</td>\n",
       "      <td>0.042000</td>\n",
       "      <td>0.000000</td>\n",
       "      <td>0.069667</td>\n",
       "    </tr>\n",
       "    <tr>\n",
       "      <th rowspan=\"4\" valign=\"top\">DUE</th>\n",
       "      <th>FP32</th>\n",
       "      <td>0.00000</td>\n",
       "      <td>0.00000</td>\n",
       "      <td>0.000000</td>\n",
       "      <td>0.000000</td>\n",
       "      <td>0.000000</td>\n",
       "      <td>0.000000</td>\n",
       "      <td>0.000000</td>\n",
       "      <td>0.000000</td>\n",
       "      <td>0.000000</td>\n",
       "    </tr>\n",
       "    <tr>\n",
       "      <th>FP64</th>\n",
       "      <td>0.00000</td>\n",
       "      <td>0.00000</td>\n",
       "      <td>0.000000</td>\n",
       "      <td>0.000000</td>\n",
       "      <td>0.000000</td>\n",
       "      <td>0.000000</td>\n",
       "      <td>0.000000</td>\n",
       "      <td>0.000000</td>\n",
       "      <td>0.000000</td>\n",
       "    </tr>\n",
       "    <tr>\n",
       "      <th>GP</th>\n",
       "      <td>0.00725</td>\n",
       "      <td>0.01625</td>\n",
       "      <td>0.013333</td>\n",
       "      <td>0.107667</td>\n",
       "      <td>0.008333</td>\n",
       "      <td>0.024000</td>\n",
       "      <td>0.017000</td>\n",
       "      <td>0.113000</td>\n",
       "      <td>0.020000</td>\n",
       "    </tr>\n",
       "    <tr>\n",
       "      <th>LD</th>\n",
       "      <td>0.00000</td>\n",
       "      <td>0.00000</td>\n",
       "      <td>0.000000</td>\n",
       "      <td>0.000000</td>\n",
       "      <td>0.000000</td>\n",
       "      <td>0.000000</td>\n",
       "      <td>0.000000</td>\n",
       "      <td>0.000000</td>\n",
       "      <td>0.002333</td>\n",
       "    </tr>\n",
       "  </tbody>\n",
       "</table>\n",
       "</div>"
      ],
      "text/plain": [
       "            DGEMM  DHOTSPOT     DLAVA      DMXM     FGEMM  FHOTSPOT     FLAVA  \\\n",
       "    igid                                                                        \n",
       "SDC FP32  0.00000   0.11125  0.000000  0.000000  0.314667  0.157667  0.132000   \n",
       "    FP64  0.24250   0.14050  0.155333  0.329000  0.000000  0.000000  0.000000   \n",
       "    GP    0.23625   0.10125  0.122000  0.080667  0.297333  0.153333  0.105333   \n",
       "    LD    0.22875   0.13525  0.066667  0.000000  0.309333  0.182667  0.042000   \n",
       "DUE FP32  0.00000   0.00000  0.000000  0.000000  0.000000  0.000000  0.000000   \n",
       "    FP64  0.00000   0.00000  0.000000  0.000000  0.000000  0.000000  0.000000   \n",
       "    GP    0.00725   0.01625  0.013333  0.107667  0.008333  0.024000  0.017000   \n",
       "    LD    0.00000   0.00000  0.000000  0.000000  0.000000  0.000000  0.000000   \n",
       "\n",
       "              FMXM   FYOLOV3  \n",
       "    igid                      \n",
       "SDC FP32  0.321333  0.079667  \n",
       "    FP64  0.000000  0.000000  \n",
       "    GP    0.066667  0.085333  \n",
       "    LD    0.000000  0.069667  \n",
       "DUE FP32  0.000000  0.000000  \n",
       "    FP64  0.000000  0.000000  \n",
       "    GP    0.113000  0.020000  \n",
       "    LD    0.000000  0.002333  "
      ]
     },
     "execution_count": 2,
     "metadata": {},
     "output_type": "execute_result"
    }
   ],
   "source": [
    "nvbitfi_df"
   ]
  },
  {
   "cell_type": "code",
   "execution_count": 3,
   "metadata": {},
   "outputs": [],
   "source": [
    "# Define a function to plot both graphs\n",
    "import matplotlib.pyplot as plt\n",
    "%matplotlib inline\n",
    "\n",
    "def plot(df):\n",
    "    fig = plt.figure()\n",
    "    ax = fig.add_subplot(111)\n",
    "\n",
    "    df.plot.bar(edgecolor=\"black\", colormap=\"RdYlBu\", ax=fig.gca(), stacked=True)\n",
    "    plt.legend(bbox_to_anchor=(1.01, 1), loc='upper left')\n"
   ]
  },
  {
   "cell_type": "code",
   "execution_count": 4,
   "metadata": {},
   "outputs": [
    {
     "data": {
      "image/png": "[encoded data removed]",
      "text/plain": [
       "<Figure size 432x288 with 1 Axes>"
      ]
     },
     "metadata": {
      "needs_background": "light"
     },
     "output_type": "display_data"
    }
   ],
   "source": [
    "# Group to plot as in the paper for NVBITFI\n",
    "nvbitfi_df.index.names = [\"outcome\", \"igid\"]\n",
    "nvbitfi_df = nvbitfi_df.groupby([\"outcome\"]).sum()\n",
    "\n",
    "# add masked\n",
    "nvbitfi_df.loc[\"Masked\"] = 1 - nvbitfi_df.sum(axis=0)\n",
    "\n",
    "#Plot\n",
    "plot(nvbitfi_df.transpose())"
   ]
  },
  {
   "cell_type": "code",
   "execution_count": null,
   "metadata": {},
   "outputs": [],
   "source": []
  }
 ],
 "metadata": {
  "kernelspec": {
   "display_name": "Python 3",
   "language": "python",
   "name": "python3"
  },
  "language_info": {
   "codemirror_mode": {
    "name": "ipython",
    "version": 3
   },
   "file_extension": ".py",
   "mimetype": "text/x-python",
   "name": "python",
   "nbconvert_exporter": "python",
   "pygments_lexer": "ipython3",
   "version": "3.8.5"
  }
 },
 "nbformat": 4,
 "nbformat_minor": 4
}
